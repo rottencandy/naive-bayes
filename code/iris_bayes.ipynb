{
 "cells": [
  {
   "cell_type": "code",
   "execution_count": 1,
   "metadata": {},
   "outputs": [],
   "source": [
    "# Import necessary libraries\n",
    "\n",
    "import numpy as np\n",
    "import pandas as pd"
   ]
  },
  {
   "cell_type": "code",
   "execution_count": 2,
   "metadata": {},
   "outputs": [],
   "source": [
    "# Load dataset\n",
    "data = pd.read_csv('../data/Iris.csv')"
   ]
  },
  {
   "cell_type": "code",
   "execution_count": 3,
   "metadata": {},
   "outputs": [
    {
     "data": {
      "text/html": [
       "<div>\n",
       "<style scoped>\n",
       "    .dataframe tbody tr th:only-of-type {\n",
       "        vertical-align: middle;\n",
       "    }\n",
       "\n",
       "    .dataframe tbody tr th {\n",
       "        vertical-align: top;\n",
       "    }\n",
       "\n",
       "    .dataframe thead th {\n",
       "        text-align: right;\n",
       "    }\n",
       "</style>\n",
       "<table border=\"1\" class=\"dataframe\">\n",
       "  <thead>\n",
       "    <tr style=\"text-align: right;\">\n",
       "      <th></th>\n",
       "      <th>Id</th>\n",
       "      <th>SepalLengthCm</th>\n",
       "      <th>SepalWidthCm</th>\n",
       "      <th>PetalLengthCm</th>\n",
       "      <th>PetalWidthCm</th>\n",
       "      <th>Species</th>\n",
       "    </tr>\n",
       "  </thead>\n",
       "  <tbody>\n",
       "    <tr>\n",
       "      <th>0</th>\n",
       "      <td>1</td>\n",
       "      <td>5.1</td>\n",
       "      <td>3.5</td>\n",
       "      <td>1.4</td>\n",
       "      <td>0.2</td>\n",
       "      <td>Iris-setosa</td>\n",
       "    </tr>\n",
       "    <tr>\n",
       "      <th>1</th>\n",
       "      <td>2</td>\n",
       "      <td>4.9</td>\n",
       "      <td>3.0</td>\n",
       "      <td>1.4</td>\n",
       "      <td>0.2</td>\n",
       "      <td>Iris-setosa</td>\n",
       "    </tr>\n",
       "    <tr>\n",
       "      <th>2</th>\n",
       "      <td>3</td>\n",
       "      <td>4.7</td>\n",
       "      <td>3.2</td>\n",
       "      <td>1.3</td>\n",
       "      <td>0.2</td>\n",
       "      <td>Iris-setosa</td>\n",
       "    </tr>\n",
       "    <tr>\n",
       "      <th>3</th>\n",
       "      <td>4</td>\n",
       "      <td>4.6</td>\n",
       "      <td>3.1</td>\n",
       "      <td>1.5</td>\n",
       "      <td>0.2</td>\n",
       "      <td>Iris-setosa</td>\n",
       "    </tr>\n",
       "    <tr>\n",
       "      <th>4</th>\n",
       "      <td>5</td>\n",
       "      <td>5.0</td>\n",
       "      <td>3.6</td>\n",
       "      <td>1.4</td>\n",
       "      <td>0.2</td>\n",
       "      <td>Iris-setosa</td>\n",
       "    </tr>\n",
       "  </tbody>\n",
       "</table>\n",
       "</div>"
      ],
      "text/plain": [
       "   Id  SepalLengthCm  SepalWidthCm  PetalLengthCm  PetalWidthCm      Species\n",
       "0   1            5.1           3.5            1.4           0.2  Iris-setosa\n",
       "1   2            4.9           3.0            1.4           0.2  Iris-setosa\n",
       "2   3            4.7           3.2            1.3           0.2  Iris-setosa\n",
       "3   4            4.6           3.1            1.5           0.2  Iris-setosa\n",
       "4   5            5.0           3.6            1.4           0.2  Iris-setosa"
      ]
     },
     "execution_count": 3,
     "metadata": {},
     "output_type": "execute_result"
    }
   ],
   "source": [
    "data.head()"
   ]
  },
  {
   "cell_type": "code",
   "execution_count": 4,
   "metadata": {},
   "outputs": [
    {
     "data": {
      "text/plain": [
       "array(['Iris-setosa', 'Iris-versicolor', 'Iris-virginica'], dtype=object)"
      ]
     },
     "execution_count": 4,
     "metadata": {},
     "output_type": "execute_result"
    }
   ],
   "source": [
    "# Get all classes\n",
    "data['Species'].unique()"
   ]
  },
  {
   "cell_type": "code",
   "execution_count": 5,
   "metadata": {},
   "outputs": [],
   "source": [
    "# Cleaning dataset\n",
    "\n",
    "# Remove unused 'Id' attribute\n",
    "data.drop('Id',axis=1,inplace=True)"
   ]
  },
  {
   "cell_type": "code",
   "execution_count": 6,
   "metadata": {},
   "outputs": [],
   "source": [
    "# Separate all features of the 3 classes\n",
    "setosa = data[data['Species'] == 'Iris-setosa']\n",
    "versicolor = data[data['Species'] == 'Iris-versicolor']\n",
    "virginica = data[data['Species'] == 'Iris-virginica']"
   ]
  },
  {
   "cell_type": "code",
   "execution_count": 7,
   "metadata": {},
   "outputs": [],
   "source": [
    "# Calculate mean\n",
    "def mean(array):\n",
    "    return np.sum(array) / len(array)"
   ]
  },
  {
   "cell_type": "code",
   "execution_count": 8,
   "metadata": {},
   "outputs": [],
   "source": [
    "# Mean values of setosa features\n",
    "setosa_sepallen_mean = mean(setosa['SepalLengthCm'])\n",
    "setosa_sepalwid_mean = mean(setosa['SepalWidthCm'])\n",
    "setosa_petallen_mean = mean(setosa['PetalLengthCm'])\n",
    "setosa_petalwid_mean = mean(setosa['PetalWidthCm'])\n",
    "\n",
    "# Mean values of versicolor features\n",
    "versicolor_sepallen_mean = mean(versicolor['SepalLengthCm'])\n",
    "versicolor_sepalwid_mean = mean(versicolor['SepalWidthCm'])\n",
    "versicolor_petallen_mean = mean(versicolor['PetalLengthCm'])\n",
    "versicolor_petalwid_mean = mean(versicolor['PetalWidthCm'])\n",
    "\n",
    "# Mean values of virginica features\n",
    "virginica_sepallen_mean = mean(virginica['SepalLengthCm'])\n",
    "virginica_sepalwid_mean = mean(virginica['SepalWidthCm'])\n",
    "virginica_petallen_mean = mean(virginica['PetalLengthCm'])\n",
    "virginica_petalwid_mean = mean(virginica['PetalWidthCm'])"
   ]
  },
  {
   "cell_type": "code",
   "execution_count": 9,
   "metadata": {},
   "outputs": [],
   "source": [
    "# Calculate variance\n",
    "def variance(array):\n",
    "    avg = mean(array)\n",
    "    variance = np.sum( [(x-avg)**2 for x in array] ) / ( len(array)-1 )\n",
    "    return np.sqrt(variance)"
   ]
  },
  {
   "cell_type": "code",
   "execution_count": 10,
   "metadata": {},
   "outputs": [],
   "source": [
    "# Variance values of setosa features\n",
    "setosa_sepallen_var = variance(setosa['SepalLengthCm'])\n",
    "setosa_sepalwid_var = variance(setosa['SepalWidthCm'])\n",
    "setosa_petallen_var = variance(setosa['PetalLengthCm'])\n",
    "setosa_petalwid_var = variance(setosa['PetalWidthCm'])\n",
    "\n",
    "# Variance values of versicolor features\n",
    "versicolor_sepallen_var = variance(versicolor['SepalLengthCm'])\n",
    "versicolor_sepalwid_var = variance(versicolor['SepalWidthCm'])\n",
    "versicolor_petallen_var = variance(versicolor['PetalLengthCm'])\n",
    "versicolor_petalwid_var = variance(versicolor['PetalWidthCm'])\n",
    "\n",
    "# Variance values of virginica features\n",
    "virginica_sepallen_var = variance(virginica['SepalLengthCm'])\n",
    "virginica_sepalwid_var = variance(virginica['SepalWidthCm'])\n",
    "virginica_petallen_var = variance(virginica['PetalLengthCm'])\n",
    "virginica_petalwid_var = variance(virginica['PetalWidthCm'])"
   ]
  },
  {
   "cell_type": "code",
   "execution_count": 11,
   "metadata": {},
   "outputs": [],
   "source": [
    "# Calculate the bayes probability P( x | y )\n",
    "\n",
    "def probability(x, mean_y, variance_y):\n",
    "    exponent = np.exp( -((x - mean_y) ** 2) / (2 * variance_y ** 2) )\n",
    "    \n",
    "    return ( 1 / np.sqrt( 2 * np.pi * variance_y) ) * exponent"
   ]
  },
  {
   "cell_type": "code",
   "execution_count": 12,
   "metadata": {},
   "outputs": [],
   "source": [
    "# Calculate simple probability P(x) for likelihood\n",
    "\n",
    "total = len(data)\n",
    "\n",
    "P_setosa = len(setosa) / total\n",
    "P_versicolor = len(versicolor) / total\n",
    "P_virginica = len(virginica) / total"
   ]
  },
  {
   "cell_type": "code",
   "execution_count": 13,
   "metadata": {},
   "outputs": [],
   "source": [
    "# Predict the class of a given row\n",
    "def predict(features):\n",
    "    # Porbabiliy of the given flower being setosa\n",
    "    prob_setosa = P_setosa * \\\n",
    "    probability(features['SepalLengthCm'], setosa_sepallen_mean, setosa_sepallen_var) * \\\n",
    "    probability(features['SepalWidthCm'], setosa_sepalwid_mean, setosa_sepalwid_var)  * \\\n",
    "    probability(features['PetalLengthCm'], setosa_petallen_mean, setosa_petallen_var) * \\\n",
    "    probability(features['PetalWidthCm'], setosa_petalwid_mean, setosa_petalwid_var)\n",
    "    # Porbabiliy of the given flower being versicolor\n",
    "    prob_versicolor = P_versicolor * \\\n",
    "    probability(features['SepalLengthCm'], versicolor_sepallen_mean, versicolor_sepallen_var) * \\\n",
    "    probability(features['SepalWidthCm'], versicolor_sepalwid_mean, versicolor_sepalwid_var)  * \\\n",
    "    probability(features['PetalLengthCm'], versicolor_petallen_mean, versicolor_petallen_var) * \\\n",
    "    probability(features['PetalWidthCm'], versicolor_petalwid_mean, versicolor_petalwid_var)\n",
    "    # Porbabiliy of the given flower being virginica\n",
    "    prob_virginica = P_virginica * \\\n",
    "    probability(features['SepalLengthCm'], virginica_sepallen_mean, virginica_sepallen_var) * \\\n",
    "    probability(features['SepalWidthCm'], virginica_sepalwid_mean, virginica_sepalwid_var)  * \\\n",
    "    probability(features['PetalLengthCm'], virginica_petallen_mean, virginica_petallen_var) * \\\n",
    "    probability(features['PetalWidthCm'], virginica_petalwid_mean, virginica_petalwid_var)\n",
    "    \n",
    "    print('setosa probability: ', prob_setosa)\n",
    "    print('versicolor probability: ', prob_versicolor)\n",
    "    print('virginica probability: ', prob_virginica)"
   ]
  }
 ],
 "metadata": {
  "kernelspec": {
   "display_name": "Python 3",
   "language": "python",
   "name": "python3"
  },
  "language_info": {
   "codemirror_mode": {
    "name": "ipython",
    "version": 3
   },
   "file_extension": ".py",
   "mimetype": "text/x-python",
   "name": "python",
   "nbconvert_exporter": "python",
   "pygments_lexer": "ipython3",
   "version": "3.7.4"
  }
 },
 "nbformat": 4,
 "nbformat_minor": 2
}
